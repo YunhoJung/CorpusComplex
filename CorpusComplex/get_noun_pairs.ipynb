{
 "cells": [
  {
   "cell_type": "code",
   "execution_count": 1,
   "metadata": {},
   "outputs": [],
   "source": [
    "import pandas as pd\n",
    "from konlpy.tag import Okt\n",
    "okt = Okt()"
   ]
  },
  {
   "cell_type": "code",
   "execution_count": 2,
   "metadata": {},
   "outputs": [
    {
     "data": {
      "text/html": [
       "<div>\n",
       "<style scoped>\n",
       "    .dataframe tbody tr th:only-of-type {\n",
       "        vertical-align: middle;\n",
       "    }\n",
       "\n",
       "    .dataframe tbody tr th {\n",
       "        vertical-align: top;\n",
       "    }\n",
       "\n",
       "    .dataframe thead th {\n",
       "        text-align: right;\n",
       "    }\n",
       "</style>\n",
       "<table border=\"1\" class=\"dataframe\">\n",
       "  <thead>\n",
       "    <tr style=\"text-align: right;\">\n",
       "      <th></th>\n",
       "      <th>title</th>\n",
       "    </tr>\n",
       "  </thead>\n",
       "  <tbody>\n",
       "    <tr>\n",
       "      <th>0</th>\n",
       "      <td>소비자보호실태평가 결과는 어디서 확인할 수 있나요?</td>\n",
       "    </tr>\n",
       "    <tr>\n",
       "      <th>1</th>\n",
       "      <td>소비자보호실태평가의 평가방법이 궁금합니다.</td>\n",
       "    </tr>\n",
       "    <tr>\n",
       "      <th>2</th>\n",
       "      <td>소비자보호실태평가는 어떤 제도인가요?</td>\n",
       "    </tr>\n",
       "    <tr>\n",
       "      <th>3</th>\n",
       "      <td>금융감독원의 민원대상 금융회사가 궁금합니다.</td>\n",
       "    </tr>\n",
       "    <tr>\n",
       "      <th>4</th>\n",
       "      <td>내 금융계좌를 한번에 조회할 수 있는 사이트는 없나요?</td>\n",
       "    </tr>\n",
       "  </tbody>\n",
       "</table>\n",
       "</div>"
      ],
      "text/plain": [
       "                            title\n",
       "0    소비자보호실태평가 결과는 어디서 확인할 수 있나요?\n",
       "1         소비자보호실태평가의 평가방법이 궁금합니다.\n",
       "2            소비자보호실태평가는 어떤 제도인가요?\n",
       "3        금융감독원의 민원대상 금융회사가 궁금합니다.\n",
       "4  내 금융계좌를 한번에 조회할 수 있는 사이트는 없나요?"
      ]
     },
     "execution_count": 2,
     "metadata": {},
     "output_type": "execute_result"
    }
   ],
   "source": [
    "df = pd.read_csv(\"results.csv\")\n",
    "df = df[['title']]\n",
    "df.head()"
   ]
  },
  {
   "cell_type": "code",
   "execution_count": 3,
   "metadata": {},
   "outputs": [
    {
     "data": {
      "text/html": [
       "<div>\n",
       "<style scoped>\n",
       "    .dataframe tbody tr th:only-of-type {\n",
       "        vertical-align: middle;\n",
       "    }\n",
       "\n",
       "    .dataframe tbody tr th {\n",
       "        vertical-align: top;\n",
       "    }\n",
       "\n",
       "    .dataframe thead th {\n",
       "        text-align: right;\n",
       "    }\n",
       "</style>\n",
       "<table border=\"1\" class=\"dataframe\">\n",
       "  <thead>\n",
       "    <tr style=\"text-align: right;\">\n",
       "      <th></th>\n",
       "      <th>title</th>\n",
       "    </tr>\n",
       "  </thead>\n",
       "  <tbody>\n",
       "    <tr>\n",
       "      <th>0</th>\n",
       "      <td>소비자보호실태평가 결과는 어디서 확인할 수 있나요?</td>\n",
       "    </tr>\n",
       "    <tr>\n",
       "      <th>1</th>\n",
       "      <td>소비자보호실태평가의 평가방법이 궁금합니다.</td>\n",
       "    </tr>\n",
       "    <tr>\n",
       "      <th>2</th>\n",
       "      <td>소비자보호실태평가는 어떤 제도인가요?</td>\n",
       "    </tr>\n",
       "    <tr>\n",
       "      <th>3</th>\n",
       "      <td>금융감독원의 민원대상 금융회사가 궁금합니다.</td>\n",
       "    </tr>\n",
       "    <tr>\n",
       "      <th>4</th>\n",
       "      <td>내 금융계좌를 한번에 조회할 수 있는 사이트는 없나요?</td>\n",
       "    </tr>\n",
       "  </tbody>\n",
       "</table>\n",
       "</div>"
      ],
      "text/plain": [
       "                            title\n",
       "0    소비자보호실태평가 결과는 어디서 확인할 수 있나요?\n",
       "1         소비자보호실태평가의 평가방법이 궁금합니다.\n",
       "2            소비자보호실태평가는 어떤 제도인가요?\n",
       "3        금융감독원의 민원대상 금융회사가 궁금합니다.\n",
       "4  내 금융계좌를 한번에 조회할 수 있는 사이트는 없나요?"
      ]
     },
     "execution_count": 3,
     "metadata": {},
     "output_type": "execute_result"
    }
   ],
   "source": [
    "results  = df.copy()\n",
    "results.head()"
   ]
  },
  {
   "cell_type": "code",
   "execution_count": 4,
   "metadata": {},
   "outputs": [],
   "source": [
    "def get_noun_pairs(tokenized_text, noun):\n",
    "    temp = []\n",
    "    token_list = []\n",
    "    for token in tokenized_text:\n",
    "        if(token[1] in noun):\n",
    "            token_list.append(token[0])\n",
    "        else:\n",
    "            if (not token_list):\n",
    "                continue\n",
    "            temp.append(token_list)\n",
    "            token_list = []\n",
    "    if (token_list):\n",
    "        temp.append(token_list)\n",
    "    \n",
    "    result = []\n",
    "    for l in temp:\n",
    "        result.append(' '.join(map(str, l)))\n",
    "    return ','.join(result)"
   ]
  },
  {
   "cell_type": "code",
   "execution_count": 5,
   "metadata": {},
   "outputs": [
    {
     "data": {
      "text/plain": [
       "[('소비자보호', 'Noun'),\n",
       " ('실태', 'Noun'),\n",
       " ('평가', 'Noun'),\n",
       " ('결과', 'Noun'),\n",
       " ('는', 'Josa'),\n",
       " ('어디서', 'Adverb'),\n",
       " ('확인', 'Noun'),\n",
       " ('할', 'Verb'),\n",
       " ('수', 'Noun'),\n",
       " ('있나요', 'Adjective'),\n",
       " ('?', 'Punctuation')]"
      ]
     },
     "execution_count": 5,
     "metadata": {},
     "output_type": "execute_result"
    }
   ],
   "source": [
    "text = \"소비자보호실태평가 결과는 어디서 확인할 수 있나요?\"\n",
    "tokenized_text = okt.pos(text)\n",
    "tokenized_text"
   ]
  },
  {
   "cell_type": "code",
   "execution_count": 6,
   "metadata": {},
   "outputs": [
    {
     "data": {
      "text/plain": [
       "'소비자보호 실태 평가 결과,확인,수'"
      ]
     },
     "execution_count": 6,
     "metadata": {},
     "output_type": "execute_result"
    }
   ],
   "source": [
    "sample = get_noun_pairs(tokenized_text, 'Noun')\n",
    "sample"
   ]
  },
  {
   "cell_type": "markdown",
   "metadata": {},
   "source": [
    "### okt"
   ]
  },
  {
   "cell_type": "code",
   "execution_count": 7,
   "metadata": {},
   "outputs": [
    {
     "data": {
      "text/html": [
       "<div>\n",
       "<style scoped>\n",
       "    .dataframe tbody tr th:only-of-type {\n",
       "        vertical-align: middle;\n",
       "    }\n",
       "\n",
       "    .dataframe tbody tr th {\n",
       "        vertical-align: top;\n",
       "    }\n",
       "\n",
       "    .dataframe thead th {\n",
       "        text-align: right;\n",
       "    }\n",
       "</style>\n",
       "<table border=\"1\" class=\"dataframe\">\n",
       "  <thead>\n",
       "    <tr style=\"text-align: right;\">\n",
       "      <th></th>\n",
       "      <th>title</th>\n",
       "      <th>tokenized</th>\n",
       "    </tr>\n",
       "  </thead>\n",
       "  <tbody>\n",
       "    <tr>\n",
       "      <th>0</th>\n",
       "      <td>소비자보호실태평가 결과는 어디서 확인할 수 있나요?</td>\n",
       "      <td>[(소비자보호, Noun), (실태, Noun), (평가, Noun), (결과, N...</td>\n",
       "    </tr>\n",
       "    <tr>\n",
       "      <th>1</th>\n",
       "      <td>소비자보호실태평가의 평가방법이 궁금합니다.</td>\n",
       "      <td>[(소비자보호, Noun), (실태, Noun), (평가, Noun), (의, Jo...</td>\n",
       "    </tr>\n",
       "    <tr>\n",
       "      <th>2</th>\n",
       "      <td>소비자보호실태평가는 어떤 제도인가요?</td>\n",
       "      <td>[(소비자보호, Noun), (실태, Noun), (평가, Noun), (는, Jo...</td>\n",
       "    </tr>\n",
       "    <tr>\n",
       "      <th>3</th>\n",
       "      <td>금융감독원의 민원대상 금융회사가 궁금합니다.</td>\n",
       "      <td>[(금융감독원, Noun), (의, Josa), (민원, Noun), (대상, No...</td>\n",
       "    </tr>\n",
       "    <tr>\n",
       "      <th>4</th>\n",
       "      <td>내 금융계좌를 한번에 조회할 수 있는 사이트는 없나요?</td>\n",
       "      <td>[(내, Noun), (금융, Noun), (계좌, Noun), (를, Josa),...</td>\n",
       "    </tr>\n",
       "  </tbody>\n",
       "</table>\n",
       "</div>"
      ],
      "text/plain": [
       "                            title  \\\n",
       "0    소비자보호실태평가 결과는 어디서 확인할 수 있나요?   \n",
       "1         소비자보호실태평가의 평가방법이 궁금합니다.   \n",
       "2            소비자보호실태평가는 어떤 제도인가요?   \n",
       "3        금융감독원의 민원대상 금융회사가 궁금합니다.   \n",
       "4  내 금융계좌를 한번에 조회할 수 있는 사이트는 없나요?   \n",
       "\n",
       "                                           tokenized  \n",
       "0  [(소비자보호, Noun), (실태, Noun), (평가, Noun), (결과, N...  \n",
       "1  [(소비자보호, Noun), (실태, Noun), (평가, Noun), (의, Jo...  \n",
       "2  [(소비자보호, Noun), (실태, Noun), (평가, Noun), (는, Jo...  \n",
       "3  [(금융감독원, Noun), (의, Josa), (민원, Noun), (대상, No...  \n",
       "4  [(내, Noun), (금융, Noun), (계좌, Noun), (를, Josa),...  "
      ]
     },
     "execution_count": 7,
     "metadata": {},
     "output_type": "execute_result"
    }
   ],
   "source": [
    "df['tokenized'] = df['title'].apply(lambda x: okt.pos(x))\n",
    "df.head()"
   ]
  },
  {
   "cell_type": "code",
   "execution_count": 8,
   "metadata": {},
   "outputs": [
    {
     "data": {
      "text/html": [
       "<div>\n",
       "<style scoped>\n",
       "    .dataframe tbody tr th:only-of-type {\n",
       "        vertical-align: middle;\n",
       "    }\n",
       "\n",
       "    .dataframe tbody tr th {\n",
       "        vertical-align: top;\n",
       "    }\n",
       "\n",
       "    .dataframe thead th {\n",
       "        text-align: right;\n",
       "    }\n",
       "</style>\n",
       "<table border=\"1\" class=\"dataframe\">\n",
       "  <thead>\n",
       "    <tr style=\"text-align: right;\">\n",
       "      <th></th>\n",
       "      <th>title</th>\n",
       "      <th>okt_pairs</th>\n",
       "    </tr>\n",
       "  </thead>\n",
       "  <tbody>\n",
       "    <tr>\n",
       "      <th>0</th>\n",
       "      <td>소비자보호실태평가 결과는 어디서 확인할 수 있나요?</td>\n",
       "      <td>소비자보호 실태 평가 결과,확인,수</td>\n",
       "    </tr>\n",
       "    <tr>\n",
       "      <th>1</th>\n",
       "      <td>소비자보호실태평가의 평가방법이 궁금합니다.</td>\n",
       "      <td>소비자보호 실태 평가,평가 방법</td>\n",
       "    </tr>\n",
       "    <tr>\n",
       "      <th>2</th>\n",
       "      <td>소비자보호실태평가는 어떤 제도인가요?</td>\n",
       "      <td>소비자보호 실태 평가,제도</td>\n",
       "    </tr>\n",
       "    <tr>\n",
       "      <th>3</th>\n",
       "      <td>금융감독원의 민원대상 금융회사가 궁금합니다.</td>\n",
       "      <td>금융감독원,민원 대상 금융 회사</td>\n",
       "    </tr>\n",
       "    <tr>\n",
       "      <th>4</th>\n",
       "      <td>내 금융계좌를 한번에 조회할 수 있는 사이트는 없나요?</td>\n",
       "      <td>내 금융 계좌,한번,조회,수,사이트</td>\n",
       "    </tr>\n",
       "  </tbody>\n",
       "</table>\n",
       "</div>"
      ],
      "text/plain": [
       "                            title            okt_pairs\n",
       "0    소비자보호실태평가 결과는 어디서 확인할 수 있나요?  소비자보호 실태 평가 결과,확인,수\n",
       "1         소비자보호실태평가의 평가방법이 궁금합니다.    소비자보호 실태 평가,평가 방법\n",
       "2            소비자보호실태평가는 어떤 제도인가요?       소비자보호 실태 평가,제도\n",
       "3        금융감독원의 민원대상 금융회사가 궁금합니다.    금융감독원,민원 대상 금융 회사\n",
       "4  내 금융계좌를 한번에 조회할 수 있는 사이트는 없나요?  내 금융 계좌,한번,조회,수,사이트"
      ]
     },
     "execution_count": 8,
     "metadata": {},
     "output_type": "execute_result"
    }
   ],
   "source": [
    "results['okt_pairs'] = df['tokenized'].apply(lambda x: get_noun_pairs(x, 'Noun'))\n",
    "results.head()"
   ]
  },
  {
   "cell_type": "markdown",
   "metadata": {},
   "source": [
    "### hannanum"
   ]
  },
  {
   "cell_type": "code",
   "execution_count": 9,
   "metadata": {},
   "outputs": [],
   "source": [
    "from konlpy.tag import Hannanum\n",
    "hannanum = Hannanum()"
   ]
  },
  {
   "cell_type": "code",
   "execution_count": 10,
   "metadata": {},
   "outputs": [
    {
     "data": {
      "text/html": [
       "<div>\n",
       "<style scoped>\n",
       "    .dataframe tbody tr th:only-of-type {\n",
       "        vertical-align: middle;\n",
       "    }\n",
       "\n",
       "    .dataframe tbody tr th {\n",
       "        vertical-align: top;\n",
       "    }\n",
       "\n",
       "    .dataframe thead th {\n",
       "        text-align: right;\n",
       "    }\n",
       "</style>\n",
       "<table border=\"1\" class=\"dataframe\">\n",
       "  <thead>\n",
       "    <tr style=\"text-align: right;\">\n",
       "      <th></th>\n",
       "      <th>title</th>\n",
       "      <th>tokenized</th>\n",
       "    </tr>\n",
       "  </thead>\n",
       "  <tbody>\n",
       "    <tr>\n",
       "      <th>0</th>\n",
       "      <td>소비자보호실태평가 결과는 어디서 확인할 수 있나요?</td>\n",
       "      <td>[(소비자보호실태평가, N), (결과, N), (는, J), (어디, N), (서,...</td>\n",
       "    </tr>\n",
       "    <tr>\n",
       "      <th>1</th>\n",
       "      <td>소비자보호실태평가의 평가방법이 궁금합니다.</td>\n",
       "      <td>[(소비자보호실태평가, N), (의, J), (평가방법, N), (이, J), (궁...</td>\n",
       "    </tr>\n",
       "    <tr>\n",
       "      <th>2</th>\n",
       "      <td>소비자보호실태평가는 어떤 제도인가요?</td>\n",
       "      <td>[(소비자보호실태평, N), (가는, J), (어떤, M), (제도, N), (이,...</td>\n",
       "    </tr>\n",
       "    <tr>\n",
       "      <th>3</th>\n",
       "      <td>금융감독원의 민원대상 금융회사가 궁금합니다.</td>\n",
       "      <td>[(금융감독원, N), (의, J), (민원대상, N), (금융회사, N), (가,...</td>\n",
       "    </tr>\n",
       "    <tr>\n",
       "      <th>4</th>\n",
       "      <td>내 금융계좌를 한번에 조회할 수 있는 사이트는 없나요?</td>\n",
       "      <td>[(내, N), (금융계좌, N), (를, J), (한번, N), (에, J), (...</td>\n",
       "    </tr>\n",
       "  </tbody>\n",
       "</table>\n",
       "</div>"
      ],
      "text/plain": [
       "                            title  \\\n",
       "0    소비자보호실태평가 결과는 어디서 확인할 수 있나요?   \n",
       "1         소비자보호실태평가의 평가방법이 궁금합니다.   \n",
       "2            소비자보호실태평가는 어떤 제도인가요?   \n",
       "3        금융감독원의 민원대상 금융회사가 궁금합니다.   \n",
       "4  내 금융계좌를 한번에 조회할 수 있는 사이트는 없나요?   \n",
       "\n",
       "                                           tokenized  \n",
       "0  [(소비자보호실태평가, N), (결과, N), (는, J), (어디, N), (서,...  \n",
       "1  [(소비자보호실태평가, N), (의, J), (평가방법, N), (이, J), (궁...  \n",
       "2  [(소비자보호실태평, N), (가는, J), (어떤, M), (제도, N), (이,...  \n",
       "3  [(금융감독원, N), (의, J), (민원대상, N), (금융회사, N), (가,...  \n",
       "4  [(내, N), (금융계좌, N), (를, J), (한번, N), (에, J), (...  "
      ]
     },
     "execution_count": 10,
     "metadata": {},
     "output_type": "execute_result"
    }
   ],
   "source": [
    "df['tokenized'] = df['title'].apply(lambda x: hannanum.pos(x))\n",
    "df.head()"
   ]
  },
  {
   "cell_type": "code",
   "execution_count": 11,
   "metadata": {},
   "outputs": [
    {
     "data": {
      "text/html": [
       "<div>\n",
       "<style scoped>\n",
       "    .dataframe tbody tr th:only-of-type {\n",
       "        vertical-align: middle;\n",
       "    }\n",
       "\n",
       "    .dataframe tbody tr th {\n",
       "        vertical-align: top;\n",
       "    }\n",
       "\n",
       "    .dataframe thead th {\n",
       "        text-align: right;\n",
       "    }\n",
       "</style>\n",
       "<table border=\"1\" class=\"dataframe\">\n",
       "  <thead>\n",
       "    <tr style=\"text-align: right;\">\n",
       "      <th></th>\n",
       "      <th>title</th>\n",
       "      <th>okt_pairs</th>\n",
       "      <th>hannanum_pairs</th>\n",
       "    </tr>\n",
       "  </thead>\n",
       "  <tbody>\n",
       "    <tr>\n",
       "      <th>0</th>\n",
       "      <td>소비자보호실태평가 결과는 어디서 확인할 수 있나요?</td>\n",
       "      <td>소비자보호 실태 평가 결과,확인,수</td>\n",
       "      <td>소비자보호실태평가 결과,어디,확인,수</td>\n",
       "    </tr>\n",
       "    <tr>\n",
       "      <th>1</th>\n",
       "      <td>소비자보호실태평가의 평가방법이 궁금합니다.</td>\n",
       "      <td>소비자보호 실태 평가,평가 방법</td>\n",
       "      <td>소비자보호실태평가,평가방법,궁금</td>\n",
       "    </tr>\n",
       "    <tr>\n",
       "      <th>2</th>\n",
       "      <td>소비자보호실태평가는 어떤 제도인가요?</td>\n",
       "      <td>소비자보호 실태 평가,제도</td>\n",
       "      <td>소비자보호실태평,제도</td>\n",
       "    </tr>\n",
       "    <tr>\n",
       "      <th>3</th>\n",
       "      <td>금융감독원의 민원대상 금융회사가 궁금합니다.</td>\n",
       "      <td>금융감독원,민원 대상 금융 회사</td>\n",
       "      <td>금융감독원,민원대상 금융회사,궁금</td>\n",
       "    </tr>\n",
       "    <tr>\n",
       "      <th>4</th>\n",
       "      <td>내 금융계좌를 한번에 조회할 수 있는 사이트는 없나요?</td>\n",
       "      <td>내 금융 계좌,한번,조회,수,사이트</td>\n",
       "      <td>내 금융계좌,한번,조회,수,사이트</td>\n",
       "    </tr>\n",
       "  </tbody>\n",
       "</table>\n",
       "</div>"
      ],
      "text/plain": [
       "                            title            okt_pairs        hannanum_pairs\n",
       "0    소비자보호실태평가 결과는 어디서 확인할 수 있나요?  소비자보호 실태 평가 결과,확인,수  소비자보호실태평가 결과,어디,확인,수\n",
       "1         소비자보호실태평가의 평가방법이 궁금합니다.    소비자보호 실태 평가,평가 방법     소비자보호실태평가,평가방법,궁금\n",
       "2            소비자보호실태평가는 어떤 제도인가요?       소비자보호 실태 평가,제도           소비자보호실태평,제도\n",
       "3        금융감독원의 민원대상 금융회사가 궁금합니다.    금융감독원,민원 대상 금융 회사    금융감독원,민원대상 금융회사,궁금\n",
       "4  내 금융계좌를 한번에 조회할 수 있는 사이트는 없나요?  내 금융 계좌,한번,조회,수,사이트    내 금융계좌,한번,조회,수,사이트"
      ]
     },
     "execution_count": 11,
     "metadata": {},
     "output_type": "execute_result"
    }
   ],
   "source": [
    "results['hannanum_pairs'] = df['tokenized'].apply(lambda x: get_noun_pairs(x, 'N'))\n",
    "results.head()"
   ]
  },
  {
   "cell_type": "markdown",
   "metadata": {},
   "source": [
    "### komoran"
   ]
  },
  {
   "cell_type": "code",
   "execution_count": 12,
   "metadata": {},
   "outputs": [],
   "source": [
    "from konlpy.tag import Komoran\n",
    "komoran = Komoran()"
   ]
  },
  {
   "cell_type": "code",
   "execution_count": 13,
   "metadata": {},
   "outputs": [
    {
     "data": {
      "text/html": [
       "<div>\n",
       "<style scoped>\n",
       "    .dataframe tbody tr th:only-of-type {\n",
       "        vertical-align: middle;\n",
       "    }\n",
       "\n",
       "    .dataframe tbody tr th {\n",
       "        vertical-align: top;\n",
       "    }\n",
       "\n",
       "    .dataframe thead th {\n",
       "        text-align: right;\n",
       "    }\n",
       "</style>\n",
       "<table border=\"1\" class=\"dataframe\">\n",
       "  <thead>\n",
       "    <tr style=\"text-align: right;\">\n",
       "      <th></th>\n",
       "      <th>title</th>\n",
       "      <th>tokenized</th>\n",
       "    </tr>\n",
       "  </thead>\n",
       "  <tbody>\n",
       "    <tr>\n",
       "      <th>0</th>\n",
       "      <td>소비자보호실태평가 결과는 어디서 확인할 수 있나요?</td>\n",
       "      <td>[(소비자보호, NNP), (실태, NNG), (평가, NNP), (결과, NNG)...</td>\n",
       "    </tr>\n",
       "    <tr>\n",
       "      <th>1</th>\n",
       "      <td>소비자보호실태평가의 평가방법이 궁금합니다.</td>\n",
       "      <td>[(소비자보호, NNP), (실태, NNG), (평가, NNG), (의, JKG),...</td>\n",
       "    </tr>\n",
       "    <tr>\n",
       "      <th>2</th>\n",
       "      <td>소비자보호실태평가는 어떤 제도인가요?</td>\n",
       "      <td>[(소비자보호, NNP), (실태, NNG), (평가, NNG), (는, JX), ...</td>\n",
       "    </tr>\n",
       "    <tr>\n",
       "      <th>3</th>\n",
       "      <td>금융감독원의 민원대상 금융회사가 궁금합니다.</td>\n",
       "      <td>[(금융감독원, NNG), (의, JKG), (민원, NNP), (대상, NNP),...</td>\n",
       "    </tr>\n",
       "    <tr>\n",
       "      <th>4</th>\n",
       "      <td>내 금융계좌를 한번에 조회할 수 있는 사이트는 없나요?</td>\n",
       "      <td>[(내, NP), (금융, NNG), (계좌, NNP), (를, JKO), (한번,...</td>\n",
       "    </tr>\n",
       "  </tbody>\n",
       "</table>\n",
       "</div>"
      ],
      "text/plain": [
       "                            title  \\\n",
       "0    소비자보호실태평가 결과는 어디서 확인할 수 있나요?   \n",
       "1         소비자보호실태평가의 평가방법이 궁금합니다.   \n",
       "2            소비자보호실태평가는 어떤 제도인가요?   \n",
       "3        금융감독원의 민원대상 금융회사가 궁금합니다.   \n",
       "4  내 금융계좌를 한번에 조회할 수 있는 사이트는 없나요?   \n",
       "\n",
       "                                           tokenized  \n",
       "0  [(소비자보호, NNP), (실태, NNG), (평가, NNP), (결과, NNG)...  \n",
       "1  [(소비자보호, NNP), (실태, NNG), (평가, NNG), (의, JKG),...  \n",
       "2  [(소비자보호, NNP), (실태, NNG), (평가, NNG), (는, JX), ...  \n",
       "3  [(금융감독원, NNG), (의, JKG), (민원, NNP), (대상, NNP),...  \n",
       "4  [(내, NP), (금융, NNG), (계좌, NNP), (를, JKO), (한번,...  "
      ]
     },
     "execution_count": 13,
     "metadata": {},
     "output_type": "execute_result"
    }
   ],
   "source": [
    "df['tokenized'] = df['title'].apply(lambda x: komoran.pos(x))\n",
    "df.head()"
   ]
  },
  {
   "cell_type": "code",
   "execution_count": 14,
   "metadata": {},
   "outputs": [
    {
     "data": {
      "text/html": [
       "<div>\n",
       "<style scoped>\n",
       "    .dataframe tbody tr th:only-of-type {\n",
       "        vertical-align: middle;\n",
       "    }\n",
       "\n",
       "    .dataframe tbody tr th {\n",
       "        vertical-align: top;\n",
       "    }\n",
       "\n",
       "    .dataframe thead th {\n",
       "        text-align: right;\n",
       "    }\n",
       "</style>\n",
       "<table border=\"1\" class=\"dataframe\">\n",
       "  <thead>\n",
       "    <tr style=\"text-align: right;\">\n",
       "      <th></th>\n",
       "      <th>title</th>\n",
       "      <th>okt_pairs</th>\n",
       "      <th>hannanum_pairs</th>\n",
       "      <th>komoran_pairs</th>\n",
       "    </tr>\n",
       "  </thead>\n",
       "  <tbody>\n",
       "    <tr>\n",
       "      <th>0</th>\n",
       "      <td>소비자보호실태평가 결과는 어디서 확인할 수 있나요?</td>\n",
       "      <td>소비자보호 실태 평가 결과,확인,수</td>\n",
       "      <td>소비자보호실태평가 결과,어디,확인,수</td>\n",
       "      <td>소비자보호 실태 평가 결과,확인,수</td>\n",
       "    </tr>\n",
       "    <tr>\n",
       "      <th>1</th>\n",
       "      <td>소비자보호실태평가의 평가방법이 궁금합니다.</td>\n",
       "      <td>소비자보호 실태 평가,평가 방법</td>\n",
       "      <td>소비자보호실태평가,평가방법,궁금</td>\n",
       "      <td>소비자보호 실태 평가,평가 방법</td>\n",
       "    </tr>\n",
       "    <tr>\n",
       "      <th>2</th>\n",
       "      <td>소비자보호실태평가는 어떤 제도인가요?</td>\n",
       "      <td>소비자보호 실태 평가,제도</td>\n",
       "      <td>소비자보호실태평,제도</td>\n",
       "      <td>소비자보호 실태 평가,제도</td>\n",
       "    </tr>\n",
       "    <tr>\n",
       "      <th>3</th>\n",
       "      <td>금융감독원의 민원대상 금융회사가 궁금합니다.</td>\n",
       "      <td>금융감독원,민원 대상 금융 회사</td>\n",
       "      <td>금융감독원,민원대상 금융회사,궁금</td>\n",
       "      <td>금융감독원,민원 대상 금융 회사</td>\n",
       "    </tr>\n",
       "    <tr>\n",
       "      <th>4</th>\n",
       "      <td>내 금융계좌를 한번에 조회할 수 있는 사이트는 없나요?</td>\n",
       "      <td>내 금융 계좌,한번,조회,수,사이트</td>\n",
       "      <td>내 금융계좌,한번,조회,수,사이트</td>\n",
       "      <td>금융 계좌,한번,조회,수,사이트</td>\n",
       "    </tr>\n",
       "  </tbody>\n",
       "</table>\n",
       "</div>"
      ],
      "text/plain": [
       "                            title            okt_pairs        hannanum_pairs  \\\n",
       "0    소비자보호실태평가 결과는 어디서 확인할 수 있나요?  소비자보호 실태 평가 결과,확인,수  소비자보호실태평가 결과,어디,확인,수   \n",
       "1         소비자보호실태평가의 평가방법이 궁금합니다.    소비자보호 실태 평가,평가 방법     소비자보호실태평가,평가방법,궁금   \n",
       "2            소비자보호실태평가는 어떤 제도인가요?       소비자보호 실태 평가,제도           소비자보호실태평,제도   \n",
       "3        금융감독원의 민원대상 금융회사가 궁금합니다.    금융감독원,민원 대상 금융 회사    금융감독원,민원대상 금융회사,궁금   \n",
       "4  내 금융계좌를 한번에 조회할 수 있는 사이트는 없나요?  내 금융 계좌,한번,조회,수,사이트    내 금융계좌,한번,조회,수,사이트   \n",
       "\n",
       "         komoran_pairs  \n",
       "0  소비자보호 실태 평가 결과,확인,수  \n",
       "1    소비자보호 실태 평가,평가 방법  \n",
       "2       소비자보호 실태 평가,제도  \n",
       "3    금융감독원,민원 대상 금융 회사  \n",
       "4    금융 계좌,한번,조회,수,사이트  "
      ]
     },
     "execution_count": 14,
     "metadata": {},
     "output_type": "execute_result"
    }
   ],
   "source": [
    "results['komoran_pairs'] = df['tokenized'].apply(lambda x: get_noun_pairs(x, ['NNG', 'NNP', 'NNB', 'NNM']))\n",
    "results.head()"
   ]
  },
  {
   "cell_type": "markdown",
   "metadata": {},
   "source": [
    "### mecab"
   ]
  },
  {
   "cell_type": "code",
   "execution_count": 15,
   "metadata": {},
   "outputs": [],
   "source": [
    "from eunjeon import Mecab\n",
    "mecab = Mecab()"
   ]
  },
  {
   "cell_type": "code",
   "execution_count": 16,
   "metadata": {},
   "outputs": [
    {
     "data": {
      "text/html": [
       "<div>\n",
       "<style scoped>\n",
       "    .dataframe tbody tr th:only-of-type {\n",
       "        vertical-align: middle;\n",
       "    }\n",
       "\n",
       "    .dataframe tbody tr th {\n",
       "        vertical-align: top;\n",
       "    }\n",
       "\n",
       "    .dataframe thead th {\n",
       "        text-align: right;\n",
       "    }\n",
       "</style>\n",
       "<table border=\"1\" class=\"dataframe\">\n",
       "  <thead>\n",
       "    <tr style=\"text-align: right;\">\n",
       "      <th></th>\n",
       "      <th>title</th>\n",
       "      <th>tokenized</th>\n",
       "    </tr>\n",
       "  </thead>\n",
       "  <tbody>\n",
       "    <tr>\n",
       "      <th>0</th>\n",
       "      <td>소비자보호실태평가 결과는 어디서 확인할 수 있나요?</td>\n",
       "      <td>[(소비자, NNG), (보호, NNG), (실태, NNG), (평가, NNG), ...</td>\n",
       "    </tr>\n",
       "    <tr>\n",
       "      <th>1</th>\n",
       "      <td>소비자보호실태평가의 평가방법이 궁금합니다.</td>\n",
       "      <td>[(소비자, NNG), (보호, NNG), (실태, NNG), (평가, NNG), ...</td>\n",
       "    </tr>\n",
       "    <tr>\n",
       "      <th>2</th>\n",
       "      <td>소비자보호실태평가는 어떤 제도인가요?</td>\n",
       "      <td>[(소비자, NNG), (보호, NNG), (실태, NNG), (평가, NNG), ...</td>\n",
       "    </tr>\n",
       "    <tr>\n",
       "      <th>3</th>\n",
       "      <td>금융감독원의 민원대상 금융회사가 궁금합니다.</td>\n",
       "      <td>[(금융, NNG), (감독원, NNG), (의, JKG), (민원, NNG), (...</td>\n",
       "    </tr>\n",
       "    <tr>\n",
       "      <th>4</th>\n",
       "      <td>내 금융계좌를 한번에 조회할 수 있는 사이트는 없나요?</td>\n",
       "      <td>[(내, NP+JKG), (금융, NNG), (계좌, NNG), (를, JKO), ...</td>\n",
       "    </tr>\n",
       "  </tbody>\n",
       "</table>\n",
       "</div>"
      ],
      "text/plain": [
       "                            title  \\\n",
       "0    소비자보호실태평가 결과는 어디서 확인할 수 있나요?   \n",
       "1         소비자보호실태평가의 평가방법이 궁금합니다.   \n",
       "2            소비자보호실태평가는 어떤 제도인가요?   \n",
       "3        금융감독원의 민원대상 금융회사가 궁금합니다.   \n",
       "4  내 금융계좌를 한번에 조회할 수 있는 사이트는 없나요?   \n",
       "\n",
       "                                           tokenized  \n",
       "0  [(소비자, NNG), (보호, NNG), (실태, NNG), (평가, NNG), ...  \n",
       "1  [(소비자, NNG), (보호, NNG), (실태, NNG), (평가, NNG), ...  \n",
       "2  [(소비자, NNG), (보호, NNG), (실태, NNG), (평가, NNG), ...  \n",
       "3  [(금융, NNG), (감독원, NNG), (의, JKG), (민원, NNG), (...  \n",
       "4  [(내, NP+JKG), (금융, NNG), (계좌, NNG), (를, JKO), ...  "
      ]
     },
     "execution_count": 16,
     "metadata": {},
     "output_type": "execute_result"
    }
   ],
   "source": [
    "df['tokenized'] = df['title'].apply(lambda x: mecab.pos(x))\n",
    "df.head()"
   ]
  },
  {
   "cell_type": "code",
   "execution_count": 19,
   "metadata": {},
   "outputs": [
    {
     "data": {
      "text/html": [
       "<div>\n",
       "<style scoped>\n",
       "    .dataframe tbody tr th:only-of-type {\n",
       "        vertical-align: middle;\n",
       "    }\n",
       "\n",
       "    .dataframe tbody tr th {\n",
       "        vertical-align: top;\n",
       "    }\n",
       "\n",
       "    .dataframe thead th {\n",
       "        text-align: right;\n",
       "    }\n",
       "</style>\n",
       "<table border=\"1\" class=\"dataframe\">\n",
       "  <thead>\n",
       "    <tr style=\"text-align: right;\">\n",
       "      <th></th>\n",
       "      <th>title</th>\n",
       "      <th>okt_pairs</th>\n",
       "      <th>hannanum_pairs</th>\n",
       "      <th>komoran_pairs</th>\n",
       "      <th>mecab_pairs</th>\n",
       "    </tr>\n",
       "  </thead>\n",
       "  <tbody>\n",
       "    <tr>\n",
       "      <th>0</th>\n",
       "      <td>소비자보호실태평가 결과는 어디서 확인할 수 있나요?</td>\n",
       "      <td>소비자보호 실태 평가 결과,확인,수</td>\n",
       "      <td>소비자보호실태평가 결과,어디,확인,수</td>\n",
       "      <td>소비자보호 실태 평가 결과,확인,수</td>\n",
       "      <td>소비자 보호 실태 평가 결과,확인,수</td>\n",
       "    </tr>\n",
       "    <tr>\n",
       "      <th>1</th>\n",
       "      <td>소비자보호실태평가의 평가방법이 궁금합니다.</td>\n",
       "      <td>소비자보호 실태 평가,평가 방법</td>\n",
       "      <td>소비자보호실태평가,평가방법,궁금</td>\n",
       "      <td>소비자보호 실태 평가,평가 방법</td>\n",
       "      <td>소비자 보호 실태 평가,평가 방법</td>\n",
       "    </tr>\n",
       "    <tr>\n",
       "      <th>2</th>\n",
       "      <td>소비자보호실태평가는 어떤 제도인가요?</td>\n",
       "      <td>소비자보호 실태 평가,제도</td>\n",
       "      <td>소비자보호실태평,제도</td>\n",
       "      <td>소비자보호 실태 평가,제도</td>\n",
       "      <td>소비자 보호 실태 평가,제도</td>\n",
       "    </tr>\n",
       "    <tr>\n",
       "      <th>3</th>\n",
       "      <td>금융감독원의 민원대상 금융회사가 궁금합니다.</td>\n",
       "      <td>금융감독원,민원 대상 금융 회사</td>\n",
       "      <td>금융감독원,민원대상 금융회사,궁금</td>\n",
       "      <td>금융감독원,민원 대상 금융 회사</td>\n",
       "      <td>금융 감독원,민원 대상 금융 회사</td>\n",
       "    </tr>\n",
       "    <tr>\n",
       "      <th>4</th>\n",
       "      <td>내 금융계좌를 한번에 조회할 수 있는 사이트는 없나요?</td>\n",
       "      <td>내 금융 계좌,한번,조회,수,사이트</td>\n",
       "      <td>내 금융계좌,한번,조회,수,사이트</td>\n",
       "      <td>금융 계좌,한번,조회,수,사이트</td>\n",
       "      <td>금융 계좌,조회,수,사이트</td>\n",
       "    </tr>\n",
       "  </tbody>\n",
       "</table>\n",
       "</div>"
      ],
      "text/plain": [
       "                            title            okt_pairs        hannanum_pairs  \\\n",
       "0    소비자보호실태평가 결과는 어디서 확인할 수 있나요?  소비자보호 실태 평가 결과,확인,수  소비자보호실태평가 결과,어디,확인,수   \n",
       "1         소비자보호실태평가의 평가방법이 궁금합니다.    소비자보호 실태 평가,평가 방법     소비자보호실태평가,평가방법,궁금   \n",
       "2            소비자보호실태평가는 어떤 제도인가요?       소비자보호 실태 평가,제도           소비자보호실태평,제도   \n",
       "3        금융감독원의 민원대상 금융회사가 궁금합니다.    금융감독원,민원 대상 금융 회사    금융감독원,민원대상 금융회사,궁금   \n",
       "4  내 금융계좌를 한번에 조회할 수 있는 사이트는 없나요?  내 금융 계좌,한번,조회,수,사이트    내 금융계좌,한번,조회,수,사이트   \n",
       "\n",
       "         komoran_pairs           mecab_pairs  \n",
       "0  소비자보호 실태 평가 결과,확인,수  소비자 보호 실태 평가 결과,확인,수  \n",
       "1    소비자보호 실태 평가,평가 방법    소비자 보호 실태 평가,평가 방법  \n",
       "2       소비자보호 실태 평가,제도       소비자 보호 실태 평가,제도  \n",
       "3    금융감독원,민원 대상 금융 회사    금융 감독원,민원 대상 금융 회사  \n",
       "4    금융 계좌,한번,조회,수,사이트        금융 계좌,조회,수,사이트  "
      ]
     },
     "execution_count": 19,
     "metadata": {},
     "output_type": "execute_result"
    }
   ],
   "source": [
    "results['mecab_pairs'] = df['tokenized'].apply(lambda x: get_noun_pairs(x, ['NNG', 'NNP', 'NNB']))\n",
    "results.head()"
   ]
  },
  {
   "cell_type": "code",
   "execution_count": 20,
   "metadata": {},
   "outputs": [],
   "source": [
    "results.to_csv('noun_pairs.csv', index=False, encoding='utf-8-sig')"
   ]
  },
  {
   "cell_type": "code",
   "execution_count": null,
   "metadata": {},
   "outputs": [],
   "source": []
  }
 ],
 "metadata": {
  "kernelspec": {
   "display_name": "Python [conda env:aischool]",
   "language": "python",
   "name": "conda-env-aischool-py"
  },
  "language_info": {
   "codemirror_mode": {
    "name": "ipython",
    "version": 3
   },
   "file_extension": ".py",
   "mimetype": "text/x-python",
   "name": "python",
   "nbconvert_exporter": "python",
   "pygments_lexer": "ipython3",
   "version": "3.6.5"
  }
 },
 "nbformat": 4,
 "nbformat_minor": 2
}
